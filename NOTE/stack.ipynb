{
 "cells": [
  {
   "cell_type": "markdown",
   "metadata": {},
   "source": [
    "# Stack"
   ]
  },
  {
   "cell_type": "markdown",
   "metadata": {},
   "source": [
    "### __class Stack__"
   ]
  },
  {
   "cell_type": "code",
   "execution_count": null,
   "metadata": {},
   "outputs": [],
   "source": [
    "class Stack:\n",
    "\n",
    "    def __init__(self, list = None):\n",
    "        if list == None:\n",
    "            self.items = []\n",
    "        else:\n",
    "            self.items = list\n",
    "\n",
    "    def __str__(self):\n",
    "        s = 'stack of' + str(self.size()) + 'items :'\n",
    "        for ele in self.items:\n",
    "            s += str(ele) + ''\n",
    "        return s\n",
    "\n",
    "    def push(self, i):\n",
    "        self.items.append(i)\n",
    "\n",
    "    def pop(self):\n",
    "        return self.items.pop()\n",
    "\n",
    "    def isEmpty(self):\n",
    "        return self.items == []\n",
    "\n",
    "    def size(self):\n",
    "        return len(self.items)\n"
   ]
  },
  {
   "cell_type": "markdown",
   "metadata": {},
   "source": [
    "for i in stack\n",
    "    if not i is ()\n",
    "        itr += s.pop()\n",
    "    else:\n",
    "        s.pop()\n",
    "\n",
    "def infex to\n",
    "    "
   ]
  }
 ],
 "metadata": {
  "kernelspec": {
   "display_name": "Python 3.8.13 ('base')",
   "language": "python",
   "name": "python3"
  },
  "language_info": {
   "name": "python",
   "version": "3.8.13"
  },
  "orig_nbformat": 4,
  "vscode": {
   "interpreter": {
    "hash": "8ce408c5deef954d05975305f33a5b741c147e3dc136f8a62f2d595d026e1e6c"
   }
  }
 },
 "nbformat": 4,
 "nbformat_minor": 2
}
